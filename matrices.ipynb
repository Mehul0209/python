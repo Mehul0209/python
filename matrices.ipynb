{
  "nbformat": 4,
  "nbformat_minor": 0,
  "metadata": {
    "colab": {
      "provenance": [],
      "authorship_tag": "ABX9TyOYxA5O2BGcUSDF0YGq4Ghk",
      "include_colab_link": true
    },
    "kernelspec": {
      "name": "python3",
      "display_name": "Python 3"
    },
    "language_info": {
      "name": "python"
    }
  },
  "cells": [
    {
      "cell_type": "markdown",
      "metadata": {
        "id": "view-in-github",
        "colab_type": "text"
      },
      "source": [
        "<a href=\"https://colab.research.google.com/github/Mehul0209/python/blob/main/matrices.ipynb\" target=\"_parent\"><img src=\"https://colab.research.google.com/assets/colab-badge.svg\" alt=\"Open In Colab\"/></a>"
      ]
    },
    {
      "cell_type": "code",
      "source": [
        "A=[]"
      ],
      "metadata": {
        "id": "JHraVvucTyqa"
      },
      "execution_count": null,
      "outputs": []
    },
    {
      "cell_type": "code",
      "source": [
        "A"
      ],
      "metadata": {
        "colab": {
          "base_uri": "https://localhost:8080/"
        },
        "id": "DROSYh7JT5BS",
        "outputId": "e783c475-27e4-44f5-ffc6-e4813c022b57"
      },
      "execution_count": null,
      "outputs": [
        {
          "output_type": "execute_result",
          "data": {
            "text/plain": [
              "[]"
            ]
          },
          "metadata": {},
          "execution_count": 4
        }
      ]
    },
    {
      "cell_type": "code",
      "execution_count": null,
      "metadata": {
        "id": "xoZfz7vwRd4k"
      },
      "outputs": [],
      "source": [
        "M1=[[],[]]\n",
        "M2=[[],[]]\n",
        "M3=[[],[]]\n"
      ]
    },
    {
      "cell_type": "code",
      "source": [
        "M1, M3"
      ],
      "metadata": {
        "colab": {
          "base_uri": "https://localhost:8080/"
        },
        "id": "b9iskMDNU1Ws",
        "outputId": "741f710b-2871-482a-d2d2-f0fec84a5b3b"
      },
      "execution_count": null,
      "outputs": [
        {
          "output_type": "execute_result",
          "data": {
            "text/plain": [
              "([[], []], [[], []])"
            ]
          },
          "metadata": {},
          "execution_count": 9
        }
      ]
    },
    {
      "cell_type": "code",
      "source": [
        " for i in range(2):\n",
        "  for j in range (2):\n",
        "    a=int(input(\"\"))\n",
        "    print(a)"
      ],
      "metadata": {
        "colab": {
          "base_uri": "https://localhost:8080/"
        },
        "id": "Fyrz3QMvVoTX",
        "outputId": "38c1e2d9-9b71-4a99-eb64-be19f2b3845b"
      },
      "execution_count": null,
      "outputs": [
        {
          "output_type": "stream",
          "name": "stdout",
          "text": [
            "2\n",
            "2\n",
            "4\n",
            "4\n",
            "6\n",
            "6\n",
            "1\n",
            "1\n"
          ]
        }
      ]
    },
    {
      "cell_type": "code",
      "source": [
        "m1=[[],[]]"
      ],
      "metadata": {
        "id": "M1P0bJlDZ7Vm"
      },
      "execution_count": null,
      "outputs": []
    },
    {
      "cell_type": "code",
      "source": [
        "m1=[[1,2],[4,6]]\n",
        "m2=[[3,5],[1,9]]\n",
        "for i in range (2):\n",
        "  for j in range(2):\n",
        "    print(m1[i][j]+m2[i][j], end=\" \")\n",
        "  print('')"
      ],
      "metadata": {
        "colab": {
          "base_uri": "https://localhost:8080/"
        },
        "id": "e0gxyvhrnYZJ",
        "outputId": "3b154ef4-c12f-431e-a48d-ea2ce428628a"
      },
      "execution_count": null,
      "outputs": [
        {
          "output_type": "stream",
          "name": "stdout",
          "text": [
            "4 7 \n",
            "5 15 \n"
          ]
        }
      ]
    },
    {
      "cell_type": "code",
      "source": [
        "m1=[[],[]]\n",
        "s=0\n",
        "for i in range(2):\n",
        "  for j in range (2):\n",
        "    m1[i].append(int(input()))\n",
        "\n",
        "print(\"Element of Matrix 1\")\n",
        "for i in range (2):\n",
        "  for j in range(2):\n",
        "    print(m1[i][j], end=\" \")\n",
        "    s+=m1[i][j]\n",
        "  print()\n",
        "print(s)\n"
      ],
      "metadata": {
        "colab": {
          "base_uri": "https://localhost:8080/"
        },
        "outputId": "b12017a2-1cf5-4749-c371-a0b738e90ea8",
        "id": "tlb-DJi-XyYV"
      },
      "execution_count": null,
      "outputs": [
        {
          "output_type": "stream",
          "name": "stdout",
          "text": [
            "45\n",
            "1\n",
            "2\n",
            "3\n",
            "Element of Matrix 1\n",
            "45 1 \n",
            "2 3 \n",
            "51\n"
          ]
        }
      ]
    },
    {
      "cell_type": "code",
      "source": [],
      "metadata": {
        "id": "ImJ0s45ykUin"
      },
      "execution_count": null,
      "outputs": []
    },
    {
      "cell_type": "code",
      "source": [
        "m1=[[],[]]\n",
        "\n",
        "for i in range(2):\n",
        "  for j in range (2):\n",
        "    m1[i].append(int(input()))\n",
        "    print (i,j)\n",
        "\n",
        "print(\"Element of Matrix 1\")\n",
        "for i in range (2):\n",
        "  for j in range(2):\n",
        "    print(m1[i][j], end=\" \")\n",
        "\n",
        "  print()\n",
        "\n"
      ],
      "metadata": {
        "colab": {
          "base_uri": "https://localhost:8080/"
        },
        "outputId": "efa356b5-7cc4-4956-df72-81501526b091",
        "id": "yE7FjcywkVBF"
      },
      "execution_count": null,
      "outputs": [
        {
          "output_type": "stream",
          "name": "stdout",
          "text": [
            "5\n",
            "0 0\n",
            "6\n",
            "0 1\n",
            "3\n",
            "1 0\n",
            "7\n",
            "1 1\n",
            "Element of Matrix 1\n",
            "5 6 \n",
            "3 7 \n"
          ]
        }
      ]
    },
    {
      "cell_type": "code",
      "source": [
        "print (m1)"
      ],
      "metadata": {
        "colab": {
          "base_uri": "https://localhost:8080/"
        },
        "id": "jaRBwwcCaXI_",
        "outputId": "c6ace90a-a3df-4b75-ac71-dc339aea2eb7"
      },
      "execution_count": null,
      "outputs": [
        {
          "output_type": "stream",
          "name": "stdout",
          "text": [
            "[[58, 9], [5, 23]]\n"
          ]
        }
      ]
    },
    {
      "cell_type": "code",
      "source": [
        "m1=[[] for i in range(4)]"
      ],
      "metadata": {
        "id": "GAVMgtXxc8fC"
      },
      "execution_count": null,
      "outputs": []
    },
    {
      "cell_type": "code",
      "source": [
        "\n",
        "r=int(input(\"enter number of rows required:\"))\n",
        "c=int(input(\"enter number of columns required:\"))\n",
        "m1=[[] for i in range(r)]\n",
        "for i in range(r):\n",
        "  for j in range (c):\n",
        "    m1[i].append(int(input()))\n",
        "\n",
        "print(\"Element of Matrix 1\")\n",
        "for i in range (r):\n",
        "  for j in range(c):\n",
        "    print(m1[i][j], end=\" \")\n",
        "  print()"
      ],
      "metadata": {
        "colab": {
          "base_uri": "https://localhost:8080/"
        },
        "id": "cF4Mp18jbaOQ",
        "outputId": "175f1bb6-3d20-4708-abe7-388a1a200e0d"
      },
      "execution_count": null,
      "outputs": [
        {
          "output_type": "stream",
          "name": "stdout",
          "text": [
            "enter number of rows required:4\n",
            "enter number of columns required:2\n",
            "8\n",
            "9\n",
            "88\n",
            "09\n",
            "90\n",
            "76\n",
            "67\n",
            "55\n",
            "Element of Matrix 1\n",
            "8 9 \n",
            "88 9 \n",
            "90 76 \n",
            "67 55 \n"
          ]
        }
      ]
    },
    {
      "cell_type": "code",
      "source": [
        "len(m1)"
      ],
      "metadata": {
        "colab": {
          "base_uri": "https://localhost:8080/"
        },
        "id": "OosTXXiZdflb",
        "outputId": "d45a4a77-f9c1-43e9-e2c3-f5731c30605f"
      },
      "execution_count": null,
      "outputs": [
        {
          "output_type": "execute_result",
          "data": {
            "text/plain": [
              "4"
            ]
          },
          "metadata": {},
          "execution_count": 49
        }
      ]
    },
    {
      "cell_type": "markdown",
      "source": [
        "**Matrix Operations**"
      ],
      "metadata": {
        "id": "6aBopkPgeg88"
      }
    },
    {
      "cell_type": "code",
      "source": [
        "m1=[[],[]]\n",
        "m2=[[],[]]\n",
        "\n",
        "for i in range(2):\n",
        "  for j in range (2):\n",
        "    m1[i].append(int(input()))\n",
        "for i in range(2):\n",
        "  for j in range (2):\n",
        "    m2[i].append(int(input()))\n",
        "for i in range (2):\n",
        "  for j in range(2):\n",
        "    print(m1[i][j]+m2[i][j], end=\" \")\n",
        "  print()"
      ],
      "metadata": {
        "colab": {
          "base_uri": "https://localhost:8080/"
        },
        "id": "Qxddjy8Tegk7",
        "outputId": "09e874f1-74e5-45ea-e96c-3f19928a26ac"
      },
      "execution_count": null,
      "outputs": [
        {
          "output_type": "stream",
          "name": "stdout",
          "text": [
            "2\n",
            "4\n",
            "7\n",
            "8\n",
            "14\n",
            "45\n",
            "89\n",
            "59\n",
            "16 49 \n",
            "96 67 \n"
          ]
        }
      ]
    },
    {
      "cell_type": "code",
      "source": [
        "m1=[[],[]]\n",
        "m2=[[],[]]\n",
        "m3=[[],[]]\n",
        "for i in range(2):\n",
        "  for j in range (2):\n",
        "    m1[i].append(int(input()))\n",
        "for i in range(2):\n",
        "  for j in range (2):\n",
        "    m2[i].append(int(input()))\n",
        "for i in range (2):\n",
        "  for j in range(2):\n",
        "    print(m1[i][j]-m2[i][j], end=\" \")\n",
        "  print()"
      ],
      "metadata": {
        "colab": {
          "base_uri": "https://localhost:8080/"
        },
        "id": "L2hL-WbYfdus",
        "outputId": "9b184491-958c-41cd-d5b7-cf749030b898"
      },
      "execution_count": null,
      "outputs": [
        {
          "output_type": "stream",
          "name": "stdout",
          "text": [
            "78\n",
            "56\n",
            "36\n",
            "31\n",
            "0\n",
            "1\n",
            "2\n",
            "3\n",
            "78 55 \n",
            "34 28 \n"
          ]
        }
      ]
    },
    {
      "cell_type": "code",
      "source": [
        "m1=[[],[],[]]\n",
        "s=0\n",
        "for i in range(3):\n",
        "  for j in range (3):\n",
        "    m1[i].append(int(input()))\n",
        "\n",
        "print(\"Element of Matrix 1\")\n",
        "for i in range (3):\n",
        "  for j in range(3):\n",
        "    print(m1[i][j], end=\" \")\n",
        "    if i==j:\n",
        "      s+=m1[i][j]\n",
        "  print()\n",
        "print(s)"
      ],
      "metadata": {
        "colab": {
          "base_uri": "https://localhost:8080/"
        },
        "id": "_wuByk4mhtOY",
        "outputId": "fbdfb0fd-30b2-4141-9aa2-1970929ab4fa"
      },
      "execution_count": null,
      "outputs": [
        {
          "output_type": "stream",
          "name": "stdout",
          "text": [
            "4\n",
            "5\n",
            "7\n",
            "69\n",
            "11\n",
            "23\n",
            "74\n",
            "77\n",
            "85\n",
            "Element of Matrix 1\n",
            "4 5 7 \n",
            "69 11 23 \n",
            "74 77 85 \n",
            "100\n"
          ]
        }
      ]
    },
    {
      "cell_type": "code",
      "source": [
        "def matrix_multiply(matrix1, matrix2):\n",
        "    result = [[0 for _ in range(3)] for _ in range(3)]\n",
        "\n",
        "    for i in range(3):\n",
        "        for j in range(3):\n",
        "            for k in range(3):\n",
        "                result[i][j] += matrix1[i][k] * matrix2[k][j]\n",
        "\n",
        "    return result\n",
        "\n",
        "# Example matrices\n",
        "matrix_A = [\n",
        "    [1, 2, 3],\n",
        "    [4, 5, 6],\n",
        "    [7, 8, 9]\n",
        "]\n",
        "\n",
        "matrix_B = [\n",
        "    [9, 8, 7],\n",
        "    [6, 5, 4],\n",
        "    [3, 2, 1]\n",
        "]\n",
        "\n",
        "re = matrix_multiply(matrix_A, matrix_B)\n",
        "\n",
        "\n",
        "print(\"\\nResultant Matrix:\")\n",
        "for row in re:\n",
        "  print(row)\n"
      ],
      "metadata": {
        "id": "hZ3EuryD3VjF",
        "colab": {
          "base_uri": "https://localhost:8080/"
        },
        "outputId": "60d7a111-ca1d-4fe7-ae75-a08ace34f71a"
      },
      "execution_count": null,
      "outputs": [
        {
          "output_type": "stream",
          "name": "stdout",
          "text": [
            "\n",
            "Resultant Matrix:\n",
            "[30, 24, 18]\n",
            "[84, 69, 54]\n",
            "[138, 114, 90]\n"
          ]
        }
      ]
    },
    {
      "cell_type": "code",
      "source": [],
      "metadata": {
        "id": "wqlERLnCiMgo"
      },
      "execution_count": null,
      "outputs": []
    }
  ]
}